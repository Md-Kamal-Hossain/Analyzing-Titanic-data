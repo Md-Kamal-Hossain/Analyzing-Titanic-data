{
 "cells": [
  {
   "cell_type": "code",
   "execution_count": null,
   "metadata": {
    "scrolled": true
   },
   "outputs": [],
   "source": [
    "from sklearn import preprocessing\n",
    "from sklearn.model_selection import train_test_split\n",
    "\n",
    "#from sklearn.model_selection import train_test_split\n",
    "from math import *\n",
    "import pandas as pd\n",
    "import numpy as np\n",
    "from sklearn import svm\n",
    "data = pd.read_csv('train.csv')\n",
    "data = pd.DataFrame(data)\n",
    "print(data)"
   ]
  },
  {
   "cell_type": "markdown",
   "metadata": {
    "collapsed": true
   },
   "source": []
  },
  {
   "cell_type": "code",
   "execution_count": null,
   "metadata": {},
   "outputs": [],
   "source": [
    "#counting passengers of each class\n",
    "data['Pclass'].value_counts()"
   ]
  },
  {
   "cell_type": "code",
   "execution_count": null,
   "metadata": {},
   "outputs": [],
   "source": [
    "#Ratio of number of  passengers that travel in different classes\n",
    "data['Pclass'].value_counts()* 100/len(data)"
   ]
  },
  {
   "cell_type": "code",
   "execution_count": null,
   "metadata": {},
   "outputs": [],
   "source": [
    "#plotting male and female that traveled\n",
    "%matplotlib inline\n",
    "import matplotlib.pyplot as plt\n",
    "alpha_color = 1.0\n",
    "data['Sex'].value_counts().plot(kind = 'bar',color = ['b','r'],alpha = alpha_color)"
   ]
  },
  {
   "cell_type": "code",
   "execution_count": null,
   "metadata": {},
   "outputs": [],
   "source": [
    "# pre-processing to fit data with classifier and test the performance of the classifier\n",
    "\n",
    "columns_target = ['Survived']\n",
    "columns_feature = ['Pclass','Age','Sex','Fare']\n",
    "x = data[columns_feature]\n",
    "y = data[columns_target]\n",
    "x['Sex'].isnull().sum()\n",
    "x['Pclass'].isnull().sum()\n",
    "x['Sex'].isnull().sum()\n",
    "x['Fare'].isnull().sum()\n",
    "d= {'male' :0,'female' :1}\n",
    "x['Sex'] = x['Sex'].apply(lambda x: d[x] )\n",
    "\n",
    "#x = data[columns_feature]\n",
    "#y = data[columns_target]\n",
    "temp = x['Age'].median()\n",
    "x['Age'].fillna(temp, inplace=True)\n",
    "print(x.dtypes)\n",
    "#x['Age'] = x['Age'].astype(float)\n",
    "temp = x['Pclass'].median()\n",
    "x['Pclass'].fillna(temp, inplace=True)\n",
    "temp2 = x['Fare'].median()\n",
    "x['Fare'] .fillna(temp2, inplace = True) \n",
    "#d = {'male' :0, 'female':1}\n",
    "#x['Sex'] = (x['Sex'].apply(lambda x: d[x])).astype(float)\n",
    "\n",
    "#spliting data set for training and testing classifier\n",
    "x_train,x_test,y_train,y_test = train_test_split(x,y,test_size = 0.33,random_state =12)\n",
    "\n",
    "clf = svm.LinearSVC()\n",
    "clfm =  clf.fit(x_train,y_train)\n",
    "predicted_value= clfm.predict(x_test)\n",
    "#comparing predicted values with true values\n",
    "com = np.isclose(predicted_value,y_test.T)\n",
    "com\n",
    "#print(clf)\n",
    "#print(x['Age'])\n",
    "#print(x['Fare'])\n",
    "#print(x)"
   ]
  },
  {
   "cell_type": "code",
   "execution_count": null,
   "metadata": {},
   "outputs": [],
   "source": [
    "#Accuracy in predicting\n",
    "print(clfm.score(x_test,y_test))"
   ]
  },
  {
   "cell_type": "code",
   "execution_count": null,
   "metadata": {},
   "outputs": [],
   "source": []
  },
  {
   "cell_type": "code",
   "execution_count": null,
   "metadata": {},
   "outputs": [],
   "source": []
  },
  {
   "cell_type": "code",
   "execution_count": null,
   "metadata": {},
   "outputs": [],
   "source": []
  },
  {
   "cell_type": "code",
   "execution_count": null,
   "metadata": {},
   "outputs": [],
   "source": []
  }
 ],
 "metadata": {
  "kernelspec": {
   "display_name": "Python 3",
   "language": "python",
   "name": "python3"
  },
  "language_info": {
   "codemirror_mode": {
    "name": "ipython",
    "version": 3
   },
   "file_extension": ".py",
   "mimetype": "text/x-python",
   "name": "python",
   "nbconvert_exporter": "python",
   "pygments_lexer": "ipython3",
   "version": "3.7.1"
  }
 },
 "nbformat": 4,
 "nbformat_minor": 2
}
